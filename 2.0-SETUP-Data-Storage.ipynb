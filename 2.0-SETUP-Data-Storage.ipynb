{
 "cells": [
  {
   "cell_type": "markdown",
   "metadata": {},
   "source": [
    "<div width=50% style=\"display: block; margin: auto\">\n",
    "    <img src=\"figures/ucl-logo.svg\" width=100%>\n",
    "</div>\n",
    "\n",
    "### [UCL-ELEC0136 Data Acquisition and Processing Systems 2024]()\n",
    "University College London\n",
    "# Lab 2.0: Data Storage - Prerequisites\n",
    "\n",
    "\n",
    "<hr width=70% style=\"float: left\">"
   ]
  },
  {
   "cell_type": "markdown",
   "metadata": {},
   "source": [
    "### Objectives\n",
    "* Make sure that you've completed the setting up tasks from Lab 0 and Lab 1\n",
    "* Install a MySQL server on your machine\n",
    "* Create your free MongoDB Atlas account that you can use to create a NoSQL online database\n",
    "\n",
    "### Outline\n",
    "\n",
    "This Notebook aims at helping you set up everything you will need for Lab 2 - Data Storage.\n",
    "\n",
    "* 0.0 [Setting up tasks from Lab 0 and Lab 1](##-0.0-Setting-up-tasks-from-Lab-0-and-Lab-1)\n",
    "* 0.1 [Setting up MySQL and its connection to the Notebook](##-0.1-Setting-up-MySQL-and-its-connection-to-the-Notebook)\n",
    "* 0.2 [Setting up a NoSQL online database and its connection to the Notebook](##-0.2-Setting-up-a-NoSQL-online-database-and-its-connection-to-the-Notebook)\n",
    "\n",
    "\n",
    "<hr width=70% style=\"float: left\">"
   ]
  },
  {
   "cell_type": "markdown",
   "metadata": {},
   "source": [
    "# 0. Setting up\n",
    "\n",
    "\n",
    "<div class=\"alert alert-heading alert-danger\" style=\"background-color: white; border: 2px solid; border-radius: 5px; color: #000; border-color:#AAA; padding: 10px\">\n",
    "    <b>💎 Tip</b>\n",
    "\n",
    "Hopefully, this part will run smoothly, allowing you to proceed with the rest of the notebook quickly. However, it is possible that you encounter versioning problems and installation errors. **If you do, please seek assistance from the TAs so that you move on to the rest of the lab as fast as possible.**\n",
    "\n",
    "</div>\n",
    "\n",
    "Unfortunately, situations where you lose time trying to figure out why a package doesn't work on your machine are an inevitable part of your life if you work with software, and you will encounter such issues many times in your career. There is a silver lining: learning how to debug an installation is a valuable skill that will benefit you greatly!\n",
    "\n",
    "\n",
    "<div class=\"alert alert-block alert-danger\">\n",
    "<b>👩‍💻👨‍💻 Action required</b>\n",
    "\n",
    "- Make sure your OS is updated to the latest version\n",
    "</div>"
   ]
  },
  {
   "cell_type": "markdown",
   "metadata": {},
   "source": [
    "## 0.0 Setting up tasks from Lab 0 and Lab 1\n",
    "\n",
    "<div class=\"alert alert-block alert-danger\">\n",
    "<b>👩‍💻👨‍💻 Action required</b>\n",
    "    \n",
    "- Run throught the following checklist and make sure that you've done all of the tasks before moving on to parts 0.1 and 0.2.\n",
    "- If you encounter an issue, try to troubleshoot by looking online if other people have encountered the same issues and how they solved it.\n",
    "- If all fails, use the forum on Moodle to reach out to the teaching staff.\n",
    "\n",
    "    \n",
    "</div>"
   ]
  },
  {
   "cell_type": "markdown",
   "metadata": {},
   "source": [
    "**Git**\n",
    "* Install git on your computer from [the official git websiste](https://git-scm.com).\n",
    "* Make sure you're familiar with [git's basic commands](https://education.github.com/git-cheat-sheet-education.pdf)\n",
    "\n",
    "**VS Code**\n",
    "* Install [VS Code](https://code.visualstudio.com)\n",
    "* In VS Code, go to the extensions tab, and download the [python extension](https://marketplace.visualstudio.com/items?itemName=ms-python.python) and [jupyter extension](https://marketplace.visualstudio.com/items?itemName=ms-toolsai.jupyter).\n",
    "\n",
    "**Conda python environment**\n",
    "- Look [here](https://github.com/UCL-ELEC0136/setup) to understand how an environment .yml file where the pip requirements are stored separate into another file.\n",
    "- Create an environment file with your blocknote app and name it `environment.yml`.\n",
    "- The environment (not the file) **must** have name `daps`.\n",
    "- Replace the version of python with 3.11.\n",
    "- Create a text file called `requirements.txt`, add package names to be installed with your environmen (numpy, pandas, requests, jupyter, jupyterlab...)\n",
    "- Open a terminal and use cd to navigate to the folder containing the `environment.yml` environment file.\n",
    "- Run the command `sudo conda env create -f environment.yml`, enter the password of your session, press enter.\n",
    "- Run the command `conda info --envs` to check that the envirionment called daps has been created.\n",
    "- Run the command `conda activate daps` to activate the environment.\n",
    "- Install the dependencies using `pip install -r requirements.txt`. You can do this in the cell bellow or in your terminal.\n",
    "- In VS Code, verify that your Notebook is running on the python kernel `daps`.\n",
    "**NOTE: for this lab and all future labs, make sure that your Notebook is running on the python kernel `daps`.** \n",
    "This is a key step as it guarantees that your development environment is **reproducible**.\n",
    "\n",
    "\n",
    "<div width=50% style=\"display: block; margin: auto\">\n",
    "    <img src=\"./figures/kernel.png\" width=100%>\n",
    "</div>\n",
    "\n",
    "\n",
    "\n",
    "<div class=\"alert alert-heading alert-danger\" style=\"background-color: white; border: 2px solid; border-radius: 5px; color: #000; border-color:#AAA; padding: 10px\">\n",
    "    <b>💎 Tip</b>\n",
    "\n",
    "You can prepend an exclamation mark `!` to any command in a Jupyter notebook to run it in the terminal. For example, `!conda activate daps` will activate the `daps` environment in the terminal.\n",
    "\n",
    "</div>"
   ]
  },
  {
   "cell_type": "markdown",
   "metadata": {},
   "source": [
    "## 0.1 Setting up MySQL and its connection to the Notebook\n",
    "\n",
    "### 0.1.1 Setting up a MySQL server on your machine\n",
    "\n",
    "In this part, we will set up a [MySQL Community Server](https://dev.mysql.com/downloads/mysql/) on your machine, that we will then use as our WebApp SQL server.\n",
    "\n",
    "<div class=\"alert alert-heading alert-danger\" style=\"background-color: white; border: 2px solid; border-radius: 5px; color: #000; border-color:#AAA; padding: 10px\">\n",
    "    <b>💎 Tip</b>\n",
    "\n",
    "If at some point you make a mistake (you download the wrong version...), and want to start again, run in your terminal `pip3 uninstall mysql` to uninstall the version of mysql on your machine.\n",
    "</div>\n",
    "\n",
    "<div class=\"alert alert-block alert-danger\">\n",
    "<b>👩‍💻👨‍💻 Action required</b>\n",
    "\n",
    "- Download the version of MySQL Community server adapted to the machine you are working on from this website: https://dev.mysql.com/downloads/mysql/\n",
    "    \n",
    "- Install the MySQL Community server, you will be asked to create a password, **PLEASE KEEP A RECORD OF THAT PASSWORD YOU WILL NEED IT LATER**. [Linux tutorial](https://www.youtube.com/watch?v=0o0tSaVQfV4) [MAC tutorial](https://www.youtube.com/watch?v=5BQ5GvjiAR4) [Windows tutorial](https://www.youtube.com/watch?v=2HQC94la6go)\n",
    "    \n",
    "    *Note1: for MAC, install the x86 version if you have an Intel CPU, and the ARM version if you have an Apple CPU*\n",
    "    \n",
    "    *Note2: you don't need an Oracle account, just click on \"No thanks, just start my download.\"*\n",
    "    \n",
    "    *Note3: you don't need to install MySQL Workbench*\n",
    "    \n",
    "    \n",
    "    \n",
    "- Run the cell bellow (or open a terminal and type `mysql -V`). This should give you the version of MySQL installed on your machine, which will let you know that the installation was successful. If it doesn't work, try restarting your machine, and if still unsucessful call for help.\n",
    "\n",
    "</div>\n"
   ]
  },
  {
   "cell_type": "code",
   "execution_count": null,
   "metadata": {},
   "outputs": [],
   "source": [
    "!python --version # Version of python of this Notebook"
   ]
  },
  {
   "cell_type": "code",
   "execution_count": null,
   "metadata": {},
   "outputs": [],
   "source": [
    "!mysql -V"
   ]
  },
  {
   "cell_type": "markdown",
   "metadata": {},
   "source": [
    "### 0.1.2 Installing and importing important python libraries\n",
    "\n",
    "<div class=\"alert alert-block alert-danger\">\n",
    "<b>👩‍💻👨‍💻 Action required</b>\n",
    "\n",
    "- Go to the requirement.txt file you created in lab 1, and add `mysql-connector-python` to the list of packages.\n",
    "- Open a terminal, navigate using `cd` to the folder in which requirements.txt is located, and run `pip3 install -r requirements.txt`.\n",
    "\n",
    "</div>"
   ]
  },
  {
   "cell_type": "code",
   "execution_count": null,
   "metadata": {},
   "outputs": [],
   "source": [
    "#Install python librairies\n",
    "!pip show mysql-connector-python # Version of python of mysql-connector\n",
    "\n",
    "\n",
    "# FOR DEBUGING if installation of the package using the requirements.txt fails\n",
    "#!pip3 install mysql-connector-python"
   ]
  },
  {
   "cell_type": "markdown",
   "metadata": {},
   "source": [
    "<div class=\"alert alert-block alert-danger\">\n",
    "<b>👩‍💻👨‍💻 Action required</b>\n",
    "\n",
    "- Run the cells bellow and check that no errors are returned.\n",
    "\n",
    "</div>"
   ]
  },
  {
   "cell_type": "code",
   "execution_count": null,
   "metadata": {},
   "outputs": [],
   "source": [
    "#Import python librairies into your Jupyter shell\n",
    "import pandas as pd\n",
    "import mysql.connector\n",
    "from mysql.connector import Error\n",
    "\n",
    "\n",
    "# FOR DEBUGING IF THIS CELL RETURNS AN ERROR\n",
    "#!python --version # Version of python of this Notebook\n",
    "#!pip show mysql-connector-python # Version of python of mysql-connector\n",
    "\n",
    "#import sys\n",
    "#sys.path.append('/usr/local/lib/python3.11/site-packages') #<-- Put here the path where \"mysql-connector-python\" was installed"
   ]
  },
  {
   "cell_type": "markdown",
   "metadata": {},
   "source": [
    "### 0.1.3 Connect python to the MySQL server\n",
    "\n",
    "<div class=\"alert alert-block alert-danger\">\n",
    "<b>👩‍💻👨‍💻 Action required</b>\n",
    "\n",
    "- Run the cells bellow and check that no errors are returned.\n",
    "- Change the password to the one you created when installing MySQL.\n",
    "\n",
    "</div>"
   ]
  },
  {
   "cell_type": "code",
   "execution_count": null,
   "metadata": {},
   "outputs": [],
   "source": [
    "def create_server_connection(host_name, user_name, user_password):\n",
    "    \"\"\"\n",
    "    This function attempts to establish a connection to a MySQL database server\n",
    "    using the provided credentials.\n",
    "\n",
    "    Args:\n",
    "    - host_name (str): The hostname or IP address of the MySQL server.\n",
    "    - user_name (str): The username for authenticating with the MySQL server.\n",
    "    - user_password (str): The password for the user.\n",
    "\n",
    "    Returns:\n",
    "    - mysql.connector.connection.MySQLConnection or None: A MySQL database connection object if the connection is successful, or None if an error occurs during connection.\n",
    "    \n",
    "    Raises:\n",
    "    - mysql.connector.Error: If an error occurs during the database creation process.\n",
    "    \n",
    "    \n",
    "    \"\"\"\n",
    "    connection = None\n",
    "    try:\n",
    "        connection = mysql.connector.connect(\n",
    "            host=host_name,\n",
    "            user=user_name,\n",
    "            password=user_password\n",
    "        )\n",
    "        print(\"MySQL Database connection successful\")\n",
    "    except Error as err:\n",
    "        print(f\"Error: '{err}'\")\n",
    "\n",
    "    return connection"
   ]
  },
  {
   "cell_type": "code",
   "execution_count": null,
   "metadata": {},
   "outputs": [],
   "source": [
    "###########################\n",
    "# Task: \n",
    "#   change pw with the MySQL server password you chose in 0.1.1, and run the cell\n",
    "#\n",
    "###########################\n",
    "\n",
    "pw = \"yourpassword\" #<--- your password here\n",
    "server_connection = create_server_connection(\"localhost\", \"root\", pw)"
   ]
  },
  {
   "cell_type": "markdown",
   "metadata": {},
   "source": [
    "## 0.2 Setting up a NoSQL online database and its connection to the Notebook\n",
    "\n",
    "### 0.2.1 Create a MongoDB ATLAS account\n",
    "\n",
    "**What is MongoDB?**\n",
    "\n",
    "**MongoDB is a flexible and scalable NoSQL database system that stores data in a document-oriented format (BSON)**. MongoDB environments provide users with a server to create databases with MongoDB. MongoDB stores data as records that are made up of collections and documents. That server can be access via an API, which allows for data manipulation with a variaty of programming languages (C, C++, C#, Go, Java, Python, Ruby and Swift). \n",
    "\n",
    "**Data structures in MongoDB**\n",
    "\n",
    "In MongoDB, a **database** is the container for collections. A single **collection**  is the container for documents. **Documents** are usually key/value pairs but it can include arrays and subdocuments. It can support different data types. More information here: https://docs.mongodb.com/manual/reference/bson-types/. \n",
    "\n",
    "| Relational DB  | MongoDB  |\n",
    "|---|---|\n",
    "|  Database | Database  |  \n",
    "| Tables  |  Collections |\n",
    "| Rows  | Documents  |\n",
    "| Index  |  Index |\n",
    "\n",
    "\n",
    "\n",
    "You can find more information about MongoDB document structure https://docs.mongodb.com/manual/core/document/. If you are not familiar with JSON and BSON specifications, you might wish to read about them here:\n",
    "- JSON: https://www.json.org/json-en.html\n",
    "- BSON: http://bsonspec.org\n",
    "\n",
    "\n",
    "<div class=\"alert alert-block alert-danger\">\n",
    "<b>👩‍💻👨‍💻 Action required</b>\n",
    "\n",
    "- Follow the instructions in `ELEC0136Lab2-TutorialMongoDB.pdf`\n",
    "- Add `pymongo` and `dnspython` to the requirements.txt file.\n",
    "- Open a terminal, navigate using `cd` to the folder in which requirements.txt is located, and run `pip3 install -r requirements.txt`.\n",
    "- Import `pymongo` and `dnspython`,  with the code below and check that there are no errors.\n",
    "</div>\n",
    " \t"
   ]
  },
  {
   "cell_type": "code",
   "execution_count": null,
   "metadata": {},
   "outputs": [],
   "source": [
    "# FOR DEBUGGING Install pymongo and dnspython\n",
    "#!pip install pymongo\n",
    "#!pip install dnspython\n",
    "\n",
    "\n",
    "# Run cell to import librairies\n",
    "import pymongo\n",
    "from pprint import pprint\n",
    "from random import randint"
   ]
  },
  {
   "cell_type": "markdown",
   "metadata": {},
   "source": [
    "### 0.2.2 Connect the Notebook to MongoDB\n",
    "\n",
    "<div class=\"alert alert-block alert-danger\">\n",
    "<b>👩‍💻👨‍💻 Action required</b>\n",
    "\n",
    "- Replace uri with the link you copied from MongoDB's online platform when setting the connection to the cluster.\n",
    "    \n",
    "- Replace $<password>$ with your password.\n",
    "\n",
    "</div>\n"
   ]
  },
  {
   "cell_type": "code",
   "execution_count": null,
   "metadata": {},
   "outputs": [],
   "source": [
    "###########################\n",
    "# Task: \n",
    "#   Replace uri with the link you copied from MongoDB's online platform\n",
    "#\n",
    "###########################\n",
    "\n",
    "\n",
    "uri = #<-- TODO put the link here and replace <password> with your password\n",
    "\n",
    "#########\n",
    "# Create a new client and connect to the server\n",
    "client = pymongo.MongoClient(uri)\n",
    "# Send a ping to confirm a successful connection\n",
    "try:\n",
    "    client.admin.command('ping')\n",
    "    print(\"Pinged your deployment. You successfully connected to MongoDB!\")\n",
    "except Exception as e:\n",
    "    print(e)"
   ]
  },
  {
   "cell_type": "markdown",
   "metadata": {},
   "source": [
    "**All good, you are ready for lab 2!**\n",
    "\n",
    "<div width=50% style=\"display: block; margin: auto\">\n",
    "    <img src=\"./figures/cat.jpeg\" width=40%>\n",
    "</div>\n",
    "\n"
   ]
  }
 ],
 "metadata": {
  "kernelspec": {
   "display_name": "Python 3",
   "language": "python",
   "name": "python3"
  },
  "language_info": {
   "codemirror_mode": {
    "name": "ipython",
    "version": 3
   },
   "file_extension": ".py",
   "mimetype": "text/x-python",
   "name": "python",
   "nbconvert_exporter": "python",
   "pygments_lexer": "ipython3",
   "version": "3.9.18"
  }
 },
 "nbformat": 4,
 "nbformat_minor": 4
}
