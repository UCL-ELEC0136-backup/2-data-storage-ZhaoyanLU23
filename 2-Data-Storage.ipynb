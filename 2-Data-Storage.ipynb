{
 "cells": [
  {
   "cell_type": "markdown",
   "metadata": {},
   "source": [
    "<div width=50% style=\"display: block; margin: auto\">\n",
    "    <img src=\"figures/ucl-logo.svg\" width=100%>\n",
    "</div>\n",
    "\n",
    "### [UCL-ELEC0136 Data Acquisition and Processing Systems 2024]()\n",
    "University College London\n",
    "# Lab 2: Data Storage\n",
    "\n",
    "\n",
    "<hr width=70% style=\"float: left\">"
   ]
  },
  {
   "cell_type": "markdown",
   "metadata": {},
   "source": [
    "### Objectives\n",
    "* Make sure that you've completed the setting up tasks from Lab 0 and Lab 1\n",
    "* Install a MySQL server on your machine\n",
    "* Create your free MongoDB Atlas account that you can use to create a NoSQL online database\n",
    "* Learn the fundamentals of SQL syntax\n",
    "* Learn how to connect to and quiery a local MySQL server with python\n",
    "* Learn how NoSQL databases differ from standard SQL databases\n",
    "* Learn how to use MongoDB to host your NoSQL online database\n",
    "* Learn how to query your MongoDB NoSQL online database with python using `pymongo` \n",
    "\n",
    "### Outline\n",
    "\n",
    "**YOU ARE DEVELOPPING AN APPLICATION TO KEEP TRACK OF ORDERS FOR A RETAIL COMPANY**\n",
    "\n",
    "In this lab, you will learn the basics of how to use databases using python by coding elements of the backend of a webapp that handles the orders of a retail business. You will use this exemple use-case to get a sense of how SQL and NoSQL are used.\n",
    "\n",
    "This notebook has 3 parts:\n",
    "\n",
    "0. [Setting up](#0.-Setting-up)\n",
    "1. [Crossing orders and user data with SQL](#1.-Crossing-orders-and-user-data-with-SQL)\n",
    "2. [Saving item descritpions with NoSQL](#2.-NoSQL-with-MongoDB)\n",
    "\n",
    "<hr width=70% style=\"float: left\">"
   ]
  },
  {
   "cell_type": "markdown",
   "metadata": {},
   "source": [
    "# 0. Setting up\n",
    "\n",
    "\n",
    "<div class=\"alert alert-heading alert-danger\" style=\"background-color: white; border: 2px solid; border-radius: 5px; color: #000; border-color:#AAA; padding: 10px\">\n",
    "    <b>💎 Tip</b>\n",
    "\n",
    "Hopefully, this part will run smoothly, allowing you to proceed with the rest of the notebook quickly. However, it is possible that you encounter versioning problems and installation errors. **If you do, please seek assistance from the TAs so that you move on to the rest of the lab as fast as possible.**\n",
    "\n",
    "</div>\n",
    "\n",
    "Unfortunately, situations where you lose time trying to figure out why a package doesn't work on your machine are an inevitable part of your life if you work with software, and you will encounter such issues many times in your career. There is a silver lining: learning how to debug an installation is a valuable skill that will benefit you greatly!\n",
    "\n",
    "\n",
    "<div class=\"alert alert-block alert-danger\">\n",
    "<b>👩‍💻👨‍💻 Action required</b>\n",
    "    \n",
    "- Make sure your OS is updated to the latest version.\n",
    "    \n",
    "</div>"
   ]
  },
  {
   "cell_type": "markdown",
   "metadata": {},
   "source": [
    "## 0.0 Setting up tasks from Lab 0 and Lab 1\n",
    "\n",
    "<div class=\"alert alert-block alert-danger\">\n",
    "<b>👩‍💻👨‍💻 Action required</b>\n",
    "    \n",
    "- Run throught the following checklist and make sure that you've done all of the tasks before moving on to parts 0.1 and 0.2.\n",
    "- If you encounter an issue, try to troubleshoot by looking online if other people have encountered the same issues and how they solved it.\n",
    "- If all fails, use the forum on Moodle to reach out to the teaching staff.\n",
    "\n",
    "    \n",
    "</div>"
   ]
  },
  {
   "cell_type": "markdown",
   "metadata": {},
   "source": [
    "**Git**\n",
    "* Install git on your computer from [the official git websiste](https://git-scm.com).\n",
    "* Make sure you're familiar with [git's basic commands](https://education.github.com/git-cheat-sheet-education.pdf)\n",
    "\n",
    "**VS Code**\n",
    "* Install [VS Code](https://code.visualstudio.com)\n",
    "* In VS Code, go to the extensions tab, and download the [python extension](https://marketplace.visualstudio.com/items?itemName=ms-python.python) and [jupyter extension](https://marketplace.visualstudio.com/items?itemName=ms-toolsai.jupyter).\n",
    "\n",
    "**Conda python environment**\n",
    "- Look [here](https://github.com/UCL-ELEC0136/setup) to understand how an environment .yml file where the pip requirements are stored separate into another file.\n",
    "- Create an environment file with your blocknote app and name it `environment.yml`.\n",
    "- The environment (not the file) **must** have name `daps`.\n",
    "- Replace the version of python with 3.11.\n",
    "- Create a text file called `requirements.txt`, add package names to be installed with your environmen (numpy, pandas, requests, jupyter, jupyterlab...)\n",
    "- Open a terminal and use cd to navigate to the folder containing the `environment.yml` environment file.\n",
    "- Run the command `sudo conda env create -f environment.yml`, enter the password of your session, press enter.\n",
    "- Run the command `conda info --envs` to check that the envirionment called daps has been created.\n",
    "- Run the command `conda activate daps` to activate the environment.\n",
    "- Install the dependencies using `pip install -r requirements.txt`. You can do this in the cell bellow or in your terminal.\n",
    "- In VS Code, verify that your Notebook is running on the python kernel `daps`.\n",
    "**NOTE: for this lab and all future labs, make sure that your Notebook is running on the python kernel `daps`.** \n",
    "This is a key step as it guarantees that your development environment is **reproducible**.\n",
    "\n",
    "\n",
    "<div width=50% style=\"display: block; margin: auto\">\n",
    "    <img src=\"./figures/kernel.png\" width=100%>\n",
    "</div>\n",
    "\n",
    "\n",
    "\n",
    "<div class=\"alert alert-heading alert-danger\" style=\"background-color: white; border: 2px solid; border-radius: 5px; color: #000; border-color:#AAA; padding: 10px\">\n",
    "    <b>💎 Tip</b>\n",
    "\n",
    "You can prepend an exclamation mark `!` to any command in a Jupyter notebook to run it in the terminal. For example, `!conda activate daps` will activate the `daps` environment in the terminal.\n",
    "\n",
    "</div>"
   ]
  },
  {
   "cell_type": "markdown",
   "metadata": {},
   "source": [
    "## 0.1 Setting up MySQL and its connection to the Notebook\n",
    "\n",
    "### 0.1.1 Setting up a MySQL server on your machine\n",
    "\n",
    "In this part, we will set up a [MySQL Community Server](https://dev.mysql.com/downloads/mysql/) on your machine, that we will then use as our WebApp SQL server.\n",
    "\n",
    "<div class=\"alert alert-heading alert-danger\" style=\"background-color: white; border: 2px solid; border-radius: 5px; color: #000; border-color:#AAA; padding: 10px\">\n",
    "    <b>💎 Tip</b>\n",
    "\n",
    "If at some point you make a mistake (you download the wrong version...), and want to start again, run in your terminal `pip3 uninstall mysql` to uninstall the version of mysql on your machine.\n",
    "</div>\n",
    "\n",
    "<div class=\"alert alert-block alert-danger\">\n",
    "<b>👩‍💻👨‍💻 Action required</b>\n",
    "\n",
    "- Download the version of MySQL Community server adapted to the machine you are working on from this website: https://dev.mysql.com/downloads/mysql/\n",
    "    \n",
    "- Install the MySQL Community server, you will be asked to create a password, **PLEASE KEEP A RECORD OF THAT PASSWORD YOU WILL NEED IT LATER**. [Linux tutorial](https://www.youtube.com/watch?v=0o0tSaVQfV4) [MAC tutorial](https://www.youtube.com/watch?v=5BQ5GvjiAR4) [Windows tutorial](https://www.youtube.com/watch?v=2HQC94la6go)\n",
    "    \n",
    "    *Note1: for MAC, install the x86 version if you have an Intel CPU, and the ARM version if you have an Apple CPU*\n",
    "    \n",
    "    *Note2: you don't need an Oracle account, just click on \"No thanks, just start my download.\"*\n",
    "    \n",
    "    *Note3: you don't need to install MySQL Workbench*\n",
    "    \n",
    "    \n",
    "    \n",
    "- Run the cell bellow (or open a terminal and type `mysql -V`). This should give you the version of MySQL installed on your machine, which will let you know that the installation was successful. If it doesn't work, try restarting your machine, and if still unsucessful call for help.\n",
    "\n",
    "</div>\n"
   ]
  },
  {
   "cell_type": "code",
   "execution_count": null,
   "metadata": {},
   "outputs": [],
   "source": [
    "!python --version # Version of python of this Notebook"
   ]
  },
  {
   "cell_type": "code",
   "execution_count": null,
   "metadata": {},
   "outputs": [],
   "source": [
    "!mysql -V"
   ]
  },
  {
   "cell_type": "markdown",
   "metadata": {},
   "source": [
    "### 0.1.2 Installing and importing important python libraries\n",
    "\n",
    "<div class=\"alert alert-block alert-danger\">\n",
    "<b>👩‍💻👨‍💻 Action required</b>\n",
    "\n",
    "- Go to the requirement.txt file you created in lab 1, and add `mysql-connector-python` to the list of packages.\n",
    "- Open a terminal, navigate using `cd` to the folder in which requirements.txt is located, and run `pip3 install -r requirements.txt`.\n",
    "\n",
    "</div>"
   ]
  },
  {
   "cell_type": "code",
   "execution_count": null,
   "metadata": {},
   "outputs": [],
   "source": [
    "#Install python librairies\n",
    "!pip show mysql-connector-python # Version of python of mysql-connector\n",
    "\n",
    "\n",
    "# FOR DEBUGING if installation of the package using the requirements.txt fails\n",
    "#!pip3 install mysql-connector-python"
   ]
  },
  {
   "cell_type": "markdown",
   "metadata": {},
   "source": [
    "<div class=\"alert alert-block alert-danger\">\n",
    "<b>👩‍💻👨‍💻 Action required</b>\n",
    "\n",
    "- Run the cells bellow and check that no errors are returned.\n",
    "\n",
    "</div>"
   ]
  },
  {
   "cell_type": "code",
   "execution_count": null,
   "metadata": {},
   "outputs": [],
   "source": [
    "#Import python librairies into your Jupyter shell\n",
    "import pandas as pd\n",
    "import mysql.connector\n",
    "from mysql.connector import Error\n",
    "\n",
    "\n",
    "# FOR DEBUGING IF THIS CELL RETURNS AN ERROR\n",
    "#!python --version # Version of python of this Notebook\n",
    "#!pip show mysql-connector-python # Version of python of mysql-connector\n",
    "\n",
    "#import sys\n",
    "#sys.path.append('/usr/local/lib/python3.11/site-packages') #<-- Put here the path where \"mysql-connector-python\" was installed"
   ]
  },
  {
   "cell_type": "markdown",
   "metadata": {},
   "source": [
    "### 0.1.3 Connect python to the MySQL server\n",
    "\n",
    "<div class=\"alert alert-block alert-danger\">\n",
    "<b>👩‍💻👨‍💻 Action required</b>\n",
    "\n",
    "- Run the cells bellow and check that no errors are returned.\n",
    "- Change the password to the one you created when installing MySQL.\n",
    "\n",
    "</div>"
   ]
  },
  {
   "cell_type": "code",
   "execution_count": null,
   "metadata": {},
   "outputs": [],
   "source": [
    "def create_server_connection(host_name, user_name, user_password):\n",
    "    \"\"\"\n",
    "    This function attempts to establish a connection to a MySQL database server\n",
    "    using the provided credentials.\n",
    "\n",
    "    Args:\n",
    "    - host_name (str): The hostname or IP address of the MySQL server.\n",
    "    - user_name (str): The username for authenticating with the MySQL server.\n",
    "    - user_password (str): The password for the user.\n",
    "\n",
    "    Returns:\n",
    "    - mysql.connector.connection.MySQLConnection or None: A MySQL database connection object if the connection is successful, or None if an error occurs during connection.\n",
    "    \n",
    "    Raises:\n",
    "    - mysql.connector.Error: If an error occurs during the database creation process.\n",
    "    \n",
    "    \n",
    "    \"\"\"\n",
    "    connection = None\n",
    "    try:\n",
    "        connection = mysql.connector.connect(\n",
    "            host=host_name,\n",
    "            user=user_name,\n",
    "            password=user_password\n",
    "        )\n",
    "        print(\"MySQL Database connection successful\")\n",
    "    except Error as err:\n",
    "        print(f\"Error: '{err}'\")\n",
    "\n",
    "    return connection"
   ]
  },
  {
   "cell_type": "code",
   "execution_count": null,
   "metadata": {},
   "outputs": [],
   "source": [
    "###########################\n",
    "# Task: \n",
    "#   change pw with the MySQL server password you chose in 0.1.1, and run the cell\n",
    "#\n",
    "###########################\n",
    "\n",
    "pw = \"yourpassword\" #<--- your password here\n",
    "server_connection = create_server_connection(\"localhost\", \"root\", pw)"
   ]
  },
  {
   "cell_type": "markdown",
   "metadata": {},
   "source": [
    "## 0.2 Setting up a NoSQL online database and its connection to the Notebook\n",
    "\n",
    "### 0.2.1 Create a MongoDB ATLAS account\n",
    "\n",
    "**What is MongoDB?**\n",
    "\n",
    "**MongoDB is a flexible and scalable NoSQL database system that stores data in a document-oriented format (BSON)**. MongoDB environments provide users with a server to create databases with MongoDB. MongoDB stores data as records that are made up of collections and documents. That server can be access via an API, which allows for data manipulation with a variaty of programming languages (C, C++, C#, Go, Java, Python, Ruby and Swift). \n",
    "\n",
    "**Data structures in MongoDB**\n",
    "\n",
    "In MongoDB, a **database** is the container for collections. A single **collection**  is the container for documents. **Documents** are usually key/value pairs but it can include arrays and subdocuments. It can support different data types. More information here: https://docs.mongodb.com/manual/reference/bson-types/. \n",
    "\n",
    "| Relational DB  | MongoDB  |\n",
    "|---|---|\n",
    "|  Database | Database  |  \n",
    "| Tables  |  Collections |\n",
    "| Rows  | Documents  |\n",
    "| Index  |  Index |\n",
    "\n",
    "\n",
    "\n",
    "You can find more information about MongoDB document structure https://docs.mongodb.com/manual/core/document/. If you are not familiar with JSON and BSON specifications, you might wish to read about them here:\n",
    "- JSON: https://www.json.org/json-en.html\n",
    "- BSON: http://bsonspec.org\n",
    "\n",
    "\n",
    "<div class=\"alert alert-block alert-danger\">\n",
    "<b>👩‍💻👨‍💻 Action required</b>\n",
    "\n",
    "- Follow the instructions in `ELEC0136Lab2-TutorialMongoDB.pdf`\n",
    "- Add `pymongo` and `dnspython` to the requirements.txt file.\n",
    "- Open a terminal, navigate using `cd` to the folder in which requirements.txt is located, and run `pip3 install -r requirements.txt`.\n",
    "- Import `pymongo` and `dnspython`,  with the code below and check that there are no errors.\n",
    "</div>\n",
    " \t\n",
    " \t"
   ]
  },
  {
   "cell_type": "code",
   "execution_count": null,
   "metadata": {},
   "outputs": [],
   "source": [
    "# FOR DEBUGGING Install pymongo and dnspython\n",
    "#!pip install pymongo\n",
    "#!pip install dnspython\n",
    "\n",
    "\n",
    "# Run cell to import librairies\n",
    "import pymongo\n",
    "from pprint import pprint\n",
    "from random import randint"
   ]
  },
  {
   "cell_type": "markdown",
   "metadata": {},
   "source": [
    "### 0.2.2 Connect the Notebook to MongoDB\n",
    "\n",
    "<div class=\"alert alert-block alert-danger\">\n",
    "<b>👩‍💻👨‍💻 Action required</b>\n",
    "\n",
    "- Replace uri with the link you copied from MongoDB's online platform when setting the connection to the cluster.\n",
    "    \n",
    "- Replace $<password>$ with your password.\n",
    "\n",
    "</div>\n"
   ]
  },
  {
   "cell_type": "code",
   "execution_count": null,
   "metadata": {},
   "outputs": [],
   "source": [
    "###########################\n",
    "# Task: \n",
    "#   Replace uri with the link you copied from MongoDB's online platform\n",
    "#\n",
    "###########################\n",
    "\n",
    "\n",
    "uri = #<-- TODO put the link here and replace <password> with your password\n",
    "\n",
    "#########\n",
    "# Create a new client and connect to the server\n",
    "client = pymongo.MongoClient(uri)\n",
    "# Send a ping to confirm a successful connection\n",
    "try:\n",
    "    client.admin.command('ping')\n",
    "    print(\"Pinged your deployment. You successfully connected to MongoDB!\")\n",
    "except Exception as e:\n",
    "    print(e)"
   ]
  },
  {
   "cell_type": "markdown",
   "metadata": {},
   "source": [
    "# 1. Crossing orders and client data with SQL\n",
    "\n",
    "*Credit: This part takes a lot of inspiration from this [SQL with python tutorial](https://www.freecodecamp.org/news/connect-python-with-sql/), which could be valuable if you decide to use a SQL database for your project as it covers more ground than this lab.* \n",
    "\n",
    "*You can also check this [SQL tutorial about queries](https://towardsdatascience.com/data-analysis-in-mysql-operators-joins-and-more-in-relational-databases-26c0a968e61e) if you want to learn more about SQL synthax.*\n",
    "\n",
    "<div class=\"alert alert-heading alert-danger\" style=\"background-color: white; border: 2px solid; border-radius: 5px; color: #000; border-color:#AAA; padding: 10px\">\n",
    "    <b>💎 Tip</b>\n",
    "\n",
    "In this lab, the SQL-specific commands are in all-caps (SELECT, INSERT...) while the name specific to the database aren't (order_id, client_dob...).\n",
    "    \n",
    "In practice, SQL doesn't differenciate between all caps and small caps, this is just to make it clearer to you what the SQL commands are.\n",
    "</div>"
   ]
  },
  {
   "cell_type": "markdown",
   "metadata": {},
   "source": [
    "## 1.1 Create and populate your SQL database\n",
    "\n",
    "### 1.1.1 Create a database in your MySQL server and establish a connection\n",
    "\n",
    "The SQL query to create a new database is: `CREATE DATABASE database_name` \n",
    "\n",
    "<div class=\"alert alert-block alert-danger\">\n",
    "<b>👩‍💻👨‍💻 Action required</b>\n",
    "    \n",
    "- In the cell bellow, write an SQL query to create a database named \"Retail\".\n",
    "\n",
    "</div>\n",
    "\n",
    "<div class=\"alert alert-heading alert-danger\" style=\"background-color: white; border: 2px solid; border-radius: 5px; color: #000; border-color:#AAA; padding: 10px\">\n",
    "    <b>💎 Tip</b>\n",
    "\n",
    "If at some point you make a mistake (you gave the database the wrong name...), and want to start again, you can delete a database with the query `DROP DATABASE database_name`.\n",
    "</div>"
   ]
  },
  {
   "cell_type": "code",
   "execution_count": null,
   "metadata": {},
   "outputs": [],
   "source": [
    "###########################\n",
    "# Task: \n",
    "#   Write an SQL query to create a database named \"Retail\"\n",
    "#\n",
    "###########################\n",
    "\n",
    "\n",
    "creata_database_query = \"\" #<--TODO: YOUR SQL QUERY HERE BETWEEN THE \"\"\n",
    "\n",
    "######\n",
    "cursor = server_connection.cursor()\n",
    "try:\n",
    "    cursor.execute(creata_database_query)\n",
    "    print(\"Database created successfully\")\n",
    "except Error as err:\n",
    "    print(f\"Error: '{err}'\")"
   ]
  },
  {
   "cell_type": "code",
   "execution_count": null,
   "metadata": {},
   "outputs": [],
   "source": [
    "# RUN THIS CELL\n",
    "def create_db_connection(host_name, user_name, user_password, db_name):\n",
    "    \"\"\"\n",
    "    Create a MySQL database connection.\n",
    "\n",
    "    Args:\n",
    "    - host_name (str): The hostname or IP address of the MySQL server.\n",
    "    - user_name (str): The username for authentication.\n",
    "    - user_password (str): The password for authentication.\n",
    "    - db_name (str): The name of the database to connect to.\n",
    "\n",
    "    Returns:\n",
    "    - connection (MySQLConnection): A MySQL database connection object if successful,\n",
    "      or None if an error occurs.\n",
    "      \n",
    "    Raises:\n",
    "    - mysql.connector.Error: If an error occurs during the database creation process.\n",
    "      \n",
    "    \"\"\"\n",
    "    \n",
    "    connection = None\n",
    "    try:\n",
    "        connection = mysql.connector.connect(\n",
    "            host=host_name,\n",
    "            user=user_name,\n",
    "            passwd=user_password,\n",
    "            database=db_name\n",
    "        )\n",
    "        print(\"MySQL Database connection successful\")\n",
    "    except Error as err:\n",
    "        print(f\"Error: '{err}'\")\n",
    "\n",
    "    return connection\n"
   ]
  },
  {
   "cell_type": "code",
   "execution_count": null,
   "metadata": {},
   "outputs": [],
   "source": [
    "# RUN THIS CELL\n",
    "db_connection = create_db_connection(\"localhost\", \"root\", pw, \"Retail\")"
   ]
  },
  {
   "cell_type": "markdown",
   "metadata": {},
   "source": [
    "### 1.1.2 Create tables in your database, and insert rows in them\n",
    "\n",
    "To simplify the code, we create two functions: \n",
    "- `execute_query` will be used to run queries that modify the database.\n",
    "- `read_query` will be used to run queries that interogate the database without modifying it.\n",
    "\n",
    "<div class=\"alert alert-block alert-warning\">\n",
    "<b>👩‍💻👨‍💻 Optional action</b>\n",
    "    \n",
    "-  You can look into the [commit method documentation](https://dev.mysql.com/doc/connector-python/en/connector-python-api-mysqlconnection-commit.html) to understand how the method `execute_query` works.\n",
    "\n",
    "-  You can look into the [fetchall method documentation](https://dev.mysql.com/doc/connector-python/en/connector-python-api-mysqlcursor-fetchall.html) to understand how the method `read_query` works.\n",
    "    \n",
    "    \n",
    "</div>"
   ]
  },
  {
   "cell_type": "code",
   "execution_count": null,
   "metadata": {},
   "outputs": [],
   "source": [
    "# RUN THIS CELL\n",
    "def execute_query(connection, query):\n",
    "    \"\"\"\n",
    "    Execute a SQL query that modifies the database.\n",
    "\n",
    "    Args:\n",
    "    - connection (mysql.connector.connection.MySQLConnection): A MySQL database connection object.\n",
    "    - query (str): The SQL query to be executed.\n",
    "\n",
    "    Raises:\n",
    "    - mysql.connector.Error: If an error occurs during the query execution, it is caught\n",
    "                               and an error message is printed to the console. No exception\n",
    "                               is raised to the caller, so handle exceptions as needed.\n",
    "\n",
    "    Example:\n",
    "        connection = mysql.connector.connect(\n",
    "            host=\"localhost\",\n",
    "            user=\"username\",\n",
    "            password=\"password\",\n",
    "            database=\"mydatabase\"\n",
    "        )\n",
    "        query = \"SELECT * FROM mytable\"\n",
    "        result = execute_query(connection, query)\n",
    "        for row in result:\n",
    "            print(row)\n",
    "    \"\"\"\n",
    "    cursor = connection.cursor()\n",
    "    try:\n",
    "        cursor.execute(query)\n",
    "        connection.commit()\n",
    "        print(\"Query successful\")\n",
    "    except mysql.connector.Error as err:\n",
    "        print(f\"Error: '{err}'\")\n"
   ]
  },
  {
   "cell_type": "code",
   "execution_count": null,
   "metadata": {},
   "outputs": [],
   "source": [
    "# RUN THIS CELL\n",
    "def read_query(connection, query):\n",
    "    \"\"\"\n",
    "    Execute a SQL query that interogate the database without modifying it.\n",
    "\n",
    "    Args:\n",
    "    - connection (mysql.connector.connection.MySQLConnection): A MySQL database connection object.\n",
    "    - query (str): The SQL query to be executed.\n",
    "\n",
    "    Returns:\n",
    "    - list: A list of tuples representing the result set of the query.\n",
    "              Each tuple contains the data from a single row in the result.\n",
    "\n",
    "    Raises:\n",
    "    - mysql.connector.Error: If an error occurs during the query execution, it is caught\n",
    "                               and an error message is printed to the console. No exception\n",
    "                               is raised to the caller, so handle exceptions as needed.\n",
    "\n",
    "    Example:\n",
    "        connection = mysql.connector.connect(\n",
    "            host=\"localhost\",\n",
    "            user=\"username\",\n",
    "            password=\"password\",\n",
    "            database=\"mydatabase\"\n",
    "        )\n",
    "        query = \"SELECT * FROM mytable\"\n",
    "        result = execute_query(connection, query)\n",
    "        for row in result:\n",
    "            print(row)\n",
    "    \"\"\"\n",
    "    cursor = connection.cursor()\n",
    "    result = None\n",
    "    try:\n",
    "        cursor.execute(query)\n",
    "        result = cursor.fetchall()\n",
    "        return result\n",
    "    except mysql.connector.Error as err:\n",
    "        print(f\"Error: '{err}'\")\n"
   ]
  },
  {
   "cell_type": "markdown",
   "metadata": {},
   "source": [
    "In the following cells, we will create a table named Orders that will contain the following columns:\n",
    "\n",
    "| Column name  | data type in SQL syntax | \n",
    "|---|---|\n",
    "|  order_id | INT  |  \n",
    "| client_id  |  INT |\n",
    "| item_id  | INT  |\n",
    "| item_quantity  |  INT |\n",
    "| price | FLOAT |\n",
    "\n",
    "**IMPORTANT:** order_id is going to be the **primary key** of this table, meaning that it will be a unique identifier of each rows. In other words, two rows can't have the same order_id. "
   ]
  },
  {
   "cell_type": "code",
   "execution_count": null,
   "metadata": {},
   "outputs": [],
   "source": [
    "# RUN THIS CELL - Creating a table named Orders\n",
    "create_table_Orders_query = \"\"\"\n",
    "CREATE TABLE Orders (\n",
    "  order_id INT PRIMARY KEY,\n",
    "  client_id INT,\n",
    "  item_id INT,\n",
    "  item_quantity INT,\n",
    "  price FLOAT\n",
    ");\n",
    "\"\"\"\n",
    "db_connection = create_db_connection(\"localhost\", \"root\", pw, \"Retail\")\n",
    "execute_query(db_connection, create_table_Orders_query)"
   ]
  },
  {
   "cell_type": "code",
   "execution_count": null,
   "metadata": {},
   "outputs": [],
   "source": [
    "# RUN THIS CELL - Showing all the tables in the database (There should now be one table)\n",
    "show_db_query = \"SHOW TABLES;\"\n",
    "\n",
    "db_connection = create_db_connection(\"localhost\", \"root\", pw, \"Retail\")\n",
    "read_query(db_connection, show_db_query)"
   ]
  },
  {
   "cell_type": "code",
   "execution_count": null,
   "metadata": {},
   "outputs": [],
   "source": [
    "# RUN THIS CELL - Adding data to table Orders\n",
    "push_data_to_Orders_query = \"\"\"\n",
    "INSERT INTO Orders VALUES \n",
    "(1,101,10101,3,50.00),\n",
    "(3,103,10103,2,30.00),\n",
    "(4,101,10104,5,80.00),\n",
    "(5,104,10101,1,15.00),\n",
    "(6,103,10106,2,40.00),\n",
    "(7,101,10101,3,50.00),\n",
    "(8,102,10104,1,20.00),\n",
    "(9,102,10109,1,1160000000.00),\n",
    "(10,101,10110,1,10.00);\n",
    "\"\"\"\n",
    "db_connection = create_db_connection(\"localhost\", \"root\", pw, \"Retail\")\n",
    "execute_query(db_connection, push_data_to_Orders_query)"
   ]
  },
  {
   "cell_type": "code",
   "execution_count": null,
   "metadata": {},
   "outputs": [],
   "source": [
    "# RUN THIS CELL - Showing all the data in table Orders\n",
    "show_orders_query = \"SELECT * FROM Orders;\"  #in SQL syntax, * means all the data\n",
    "\n",
    "db_connection = create_db_connection(\"localhost\", \"root\", pw, \"Retail\")\n",
    "read_query(db_connection, show_orders_query)"
   ]
  },
  {
   "cell_type": "code",
   "execution_count": null,
   "metadata": {},
   "outputs": [],
   "source": [
    "# RUN THIS CELL - Showing all the data in table Orders\n",
    "show_orders_query = \"SELECT DISTINCT item_id FROM Orders;\"  #in SQL syntax, * means all the data\n",
    "\n",
    "db_connection = create_db_connection(\"localhost\", \"root\", pw, \"Retail\")\n",
    "read_query(db_connection, show_orders_query)"
   ]
  },
  {
   "cell_type": "markdown",
   "metadata": {},
   "source": [
    "**Your turn!**\n",
    "\n",
    "<div class=\"alert alert-block alert-danger\">\n",
    "<b>👩‍💻👨‍💻 Action required</b>\n",
    "    \n",
    "- Create a table called Clients with the following columns (**make client_id the primary key**):\n",
    "| Column name  | data type in SQL syntax | \n",
    "|---|---|\n",
    "| client_id  |  INT |\n",
    "| client_name  | VARCHAR(10)  |\n",
    "| client_dob  | DATE |\n",
    "\n",
    "- Fill the Users table with the provided data bellow.\n",
    "\n",
    "</div>\n",
    "\n",
    "\n",
    "\n",
    "<div class=\"alert alert-heading alert-danger\" style=\"background-color: white; border: 2px solid; border-radius: 5px; color: #000; border-color:#AAA; padding: 10px\">\n",
    "    <b>💎 Tip</b>\n",
    "\n",
    "- VARCHAR and DATE types have to be in between '', exemple: 3rd of July 2023 is '2023-06-03'.\n",
    "    \n",
    "- Copy/paste the cells used in creating and filling the Orders table, and modify the queries where you need it.\n",
    "\n",
    "- If at some point you make a mistake (you gave the table the wrong name...), and want to start again, you can delete a table with the query `DROP TABLE table_name`.\n",
    "</div>"
   ]
  },
  {
   "cell_type": "code",
   "execution_count": null,
   "metadata": {},
   "outputs": [],
   "source": [
    "###########################\n",
    "# Task: \n",
    "#   Create a table called Clients \n",
    "#\n",
    "###########################\n",
    "\n",
    "#TODO\n"
   ]
  },
  {
   "cell_type": "code",
   "execution_count": null,
   "metadata": {},
   "outputs": [],
   "source": [
    "# RUN THIS CELL - Showing all the tables in the database (There should now be two tables)\n",
    "show_db_query = \"SHOW TABLES;\"\n",
    "\n",
    "db_connection = create_db_connection(\"localhost\", \"root\", pw, \"Retail\")\n",
    "read_query(db_connection, show_db_query)"
   ]
  },
  {
   "cell_type": "code",
   "execution_count": null,
   "metadata": {},
   "outputs": [],
   "source": [
    "#RUN THIS CELL - Data to add to the table Clients\n",
    "pd.read_csv(\"./Clients.csv\", index_col=0)"
   ]
  },
  {
   "cell_type": "code",
   "execution_count": null,
   "metadata": {},
   "outputs": [],
   "source": [
    "###########################\n",
    "# Task: \n",
    "#   Fill the table Clients with the data above\n",
    "#\n",
    "###########################\n",
    "\n",
    "#TODO\n"
   ]
  },
  {
   "cell_type": "code",
   "execution_count": null,
   "metadata": {},
   "outputs": [],
   "source": [
    "# RUN THIS CELL - Showing all the data in table Clients\n",
    "show_orders_query = \"SELECT * FROM Clients;\"\n",
    "\n",
    "db_connection = create_db_connection(\"localhost\", \"root\", pw, \"Retail\")\n",
    "read_query(db_connection, show_orders_query)"
   ]
  },
  {
   "cell_type": "markdown",
   "metadata": {},
   "source": [
    "## 1.2 Interrogate your database\n",
    "\n",
    "### 1.2.1 SELECT\n",
    "\n",
    "To query data from databases, the SELECT statement is used. the SELECT\n",
    "syntax is the following:\n",
    "\n",
    "`SELECT column1, column2 FROM table_name;`\n",
    "\n",
    "Where, column1, column2, ... are the field names of the table you want to select\n",
    "data from. The data returned is returned in a table format.\n",
    "\n"
   ]
  },
  {
   "cell_type": "markdown",
   "metadata": {},
   "source": [
    "<div class=\"alert alert-block alert-danger\">\n",
    "<b>👩‍💻👨‍💻 Action required</b>\n",
    "    \n",
    "- Write a SQL query and use the `read_query` function to show the order_id and item_id columns of the Orders table. \n",
    "\n",
    "</div>"
   ]
  },
  {
   "cell_type": "code",
   "execution_count": null,
   "metadata": {},
   "outputs": [],
   "source": [
    "###########################\n",
    "# Task: \n",
    "#   show the order_id and item_id columns of the Orders table\n",
    "#\n",
    "###########################\n",
    "\n",
    "#TODO\n"
   ]
  },
  {
   "cell_type": "markdown",
   "metadata": {},
   "source": [
    "<div class=\"alert alert-block alert-danger\">\n",
    "<b>👩‍💻👨‍💻 Action required</b>\n",
    "    \n",
    "- Write a SQL query and use the `read_query` function to show the different items_id in Orders.\n",
    "\n",
    "</div>\n",
    "\n",
    "\n",
    "<div class=\"alert alert-heading alert-danger\" style=\"background-color: white; border: 2px solid; border-radius: 5px; color: #000; border-color:#AAA; padding: 10px\">\n",
    "    <b>💎 Tip</b>\n",
    "    \n",
    "**[`DISTINCT`](https://www.w3schools.com/sql/sql_ref_distinct.asp) in SQL is used to query the different values of a column.**\n",
    "    \n",
    "</div>"
   ]
  },
  {
   "cell_type": "code",
   "execution_count": null,
   "metadata": {},
   "outputs": [],
   "source": [
    "###########################\n",
    "# Task: \n",
    "#   show the different items_id in the Orders table\n",
    "#\n",
    "###########################\n",
    "\n",
    "#TODO\n"
   ]
  },
  {
   "cell_type": "markdown",
   "metadata": {},
   "source": [
    "### 1.2.2 WHERE and AND\n",
    "\n",
    "A database can contain millions of records, therefore there is a need to filter the\n",
    "results. The `WHERE` command serves this purpose, it is used to extract only the\n",
    "records that fulfill a specified condition. The `AND` command allows to filter using multiple conditions.\n",
    "\n",
    "**Example:** the following query would return the value in column1 of the rows of table_name where the value in column3 is equal to value3, and the value in column4 is greater than value4.\n",
    "\n",
    "`SELECT column1 \n",
    "FROM table_name\n",
    "WHERE column3 = value3 AND column4 > value4;\n",
    "`\n",
    "\n",
    "<div class=\"alert alert-block alert-danger\">\n",
    "<b>👩‍💻👨‍💻 Action required</b>\n",
    "    \n",
    "- Write a SQL query and use the `read_query` function to show the orders_id of orders made by client 101 that were less than 60 pounds.\n",
    "\n",
    "</div>"
   ]
  },
  {
   "cell_type": "code",
   "execution_count": null,
   "metadata": {},
   "outputs": [],
   "source": [
    "###########################\n",
    "# Task: \n",
    "#   show the orders_id of orders made by client 101 that were less than 60 pounds\n",
    "#\n",
    "###########################\n",
    "\n",
    "#TODO\n"
   ]
  },
  {
   "cell_type": "markdown",
   "metadata": {},
   "source": [
    "### 1.2.3 INNER JOIN\n",
    "\n",
    "We can query information from multiple tables using the [`INNER JOIN`](https://www.w3schools.com/sql/sql_ref_join.asp) statement.\n",
    "\n",
    "**Example:** the following query would return the value in column1 of the rows of table1 where the value of column1 in table one corresponds to the value of column3 of table2, and where the value in column3 of table2 is equal to value3, and the value in column4 of table2 is greater than value4.\n",
    "\n",
    "`SELECT table1.column1 \n",
    "FROM table1\n",
    "INNER JOIN table2 ON table1.column1 = table2.column3\n",
    "WHERE table2.column3 = value3 AND table2.column4 > value4;\n",
    "`\n",
    "\n",
    "<div class=\"alert alert-block alert-danger\">\n",
    "<b>👩‍💻👨‍💻 Action required</b>\n",
    "    \n",
    "- Write a SQL query and use the `read_query` function to show the orders_id and client_id of orders made by clients named Robert.\n",
    "\n",
    "</div>"
   ]
  },
  {
   "cell_type": "code",
   "execution_count": null,
   "metadata": {},
   "outputs": [],
   "source": [
    "###########################\n",
    "# Task: \n",
    "#   show the orders_id of orders made by clients named Robert\n",
    "#\n",
    "###########################\n",
    "\n",
    "#TODO\n"
   ]
  },
  {
   "cell_type": "markdown",
   "metadata": {},
   "source": [
    "<div class=\"alert alert-block alert-warning\">\n",
    "    <b>👩‍💻👨‍💻 Optional action</b>\n",
    "\n",
    "**Let's do some prompt engineering to help craft SQL requests**    \n",
    "- Open [ChatGPT](http://chat.openai.com)\n",
    "- Type in the following prompt: `I have a SQL table called Clients and a SQL table called Orders on my database. I want to know how many different item_id has the user with user_id 101 ordered. Write a SQL query to find that information.`   \n",
    "- Test the query generated by chatGPT, did it work?\n",
    "    \n",
    "</div>\n"
   ]
  },
  {
   "cell_type": "code",
   "execution_count": null,
   "metadata": {},
   "outputs": [],
   "source": [
    "###########################\n",
    "# Task: \n",
    "#   Use chatGPT to generate a query and execute that query.\n",
    "#\n",
    "###########################\n",
    "\n",
    "#TODO"
   ]
  },
  {
   "cell_type": "markdown",
   "metadata": {},
   "source": [
    "## 2. NoSQL with MongoDB\n",
    "\n",
    "**What is NoSQL?**\n",
    "\n",
    "NoSQL (which stands for \"not only SQL\") is a **category of database management systems** that diverge from traditional SQL (relational) databases. \n",
    "\n",
    "**In this part, we will demonstrate the ability of NoSQL to store Unstructured or Semi-Structured Data by using it to store the description of the different items that our retail website sells.**"
   ]
  },
  {
   "cell_type": "markdown",
   "metadata": {},
   "source": [
    "## 2.1 Create item descriptions and add them to the NoSQL database\n",
    "\n",
    "In MongoDB, a **database** is the container for collections. A single **collection**  is the container for documents. **Documents** are usually key/value pairs but it can include arrays and subdocuments. It can support different data types. More information here: https://docs.mongodb.com/manual/reference/bson-types/. \n",
    "\n",
    "| Relational DB  | MongoDB  |\n",
    "|---|---|\n",
    "|  Database | Database  |  \n",
    "| Tables  |  Collections |\n",
    "| Rows  | Documents  |\n",
    "| Index  |  Index |\n",
    "\n",
    "In the following cell, we create descriptions for the items on our website. Notice how different items type have different fields, and different number of fields. This is an exemple of **unstructured data**, and using SQL to store it would be a massive headache.\n",
    "\n",
    "### 2.1.1 Create item descriptions"
   ]
  },
  {
   "cell_type": "code",
   "execution_count": null,
   "metadata": {},
   "outputs": [],
   "source": [
    "Item_descritions = [\n",
    "    {\n",
    "        \"item_id\": \"10101\",\n",
    "        \"item_type\": \"book\",\n",
    "        \"languages\": [\"English\", \"French\"],\n",
    "        \"title\": \"Moby Dick\",\n",
    "        \"summary\": \"This book is about wales, boats and the sea.\",\n",
    "    },\n",
    "    {\n",
    "        \"item_id\": \"10103\",\n",
    "        \"item_type\": \"chair\",\n",
    "        \"material\": \"Oak wood\",\n",
    "        \"available_colors\": [\"Black\", \"Red\"],\n",
    "    },\n",
    "    {\n",
    "        \"item_id\": \"10104\",\n",
    "        \"item_type\": \"book\",\n",
    "        \"languages\": [\"English\"],\n",
    "        \"title\": \"How to use MongoDB\",\n",
    "        \"summary\": \"This book might be usefull at some point\",\n",
    "    },\n",
    "    {\n",
    "        \"item_id\": \"10106\",\n",
    "        \"item_type\": \"sweater\",\n",
    "        \"available_sizes\": [\"S\", \"M\",\"L\"],\n",
    "        \"material\": \"Coton\",\n",
    "        \"available_colors\": [\"Black\", \"Red\",\"Blue\"],\n",
    "    },\n",
    "    {\n",
    "        \"item_id\": \"10109\",\n",
    "        \"item_type\": \"rocket\",\n",
    "        \"rocket_model\": \"Saturn V\",\n",
    "        \"country_of_orgin\": \"USA\",\n",
    "\n",
    "    },\n",
    "    {\n",
    "        \"item_id\": \"10110\",\n",
    "        \"item_type\": \"lamp\",\n",
    "        \"available_colors\": [\"Black\", \"White\"],\n",
    "        \"lamp_type\": \"LED\",\n",
    "\n",
    "    },\n",
    "    \n",
    "]"
   ]
  },
  {
   "cell_type": "markdown",
   "metadata": {},
   "source": [
    "### 2.1.2 Add the item descriptions to the MongoDB database\n",
    "\n",
    "<div class=\"alert alert-block alert-danger\">\n",
    "<b>👩‍💻👨‍💻 Action required</b>\n",
    "\n",
    "- Upload the data to the database using `insert_on` or `insert_many` methods of the `MongoClient` class.\n",
    "\n",
    "\n",
    "</div>\n"
   ]
  },
  {
   "cell_type": "code",
   "execution_count": null,
   "metadata": {},
   "outputs": [],
   "source": [
    "# RUN THIS - Create a database object called “items”\n",
    "db = client.items\n"
   ]
  },
  {
   "cell_type": "code",
   "execution_count": null,
   "metadata": {},
   "outputs": [],
   "source": [
    "# RUN THIS - Create a collection called \"descriptions\"\n",
    "descriptions = db.descriptions"
   ]
  },
  {
   "cell_type": "code",
   "execution_count": null,
   "metadata": {},
   "outputs": [],
   "source": [
    "###########################\n",
    "# Task: \n",
    "#   add the data to the database using the insert_one or insert_many methods\n",
    "#\n",
    "###########################\n",
    "\n",
    "\n",
    "### TO DO\n",
    "\n",
    "\n",
    "#########"
   ]
  },
  {
   "cell_type": "markdown",
   "metadata": {},
   "source": [
    "<div class=\"alert alert-block alert-warning\">\n",
    "    <b>👩‍💻👨‍💻 Optional action</b>\n",
    "\n",
    "- On MongoDB's online platform, go to Database -> Browse Collections and check that you have a database named items with a collection named descriptions.\n",
    "    \n",
    "</div>\n"
   ]
  },
  {
   "cell_type": "markdown",
   "metadata": {},
   "source": [
    "## 2.2 Query the MondoDB database\n",
    "\n",
    "<div class=\"alert alert-block alert-danger\">\n",
    "<b>👩‍💻👨‍💻 Action required</b>\n",
    "\n",
    "- Find an item whose item_type is \"rocket\". You can use the method `find_one`.\n",
    "\n",
    "</div>\n",
    "<div class=\"alert alert-heading alert-danger\" style=\"background-color: white; border: 2px solid; border-radius: 5px; color: #000; border-color:#AAA; padding: 10px\">\n",
    "    <b>💎 Tip</b>\n",
    "    \n",
    "Look up this [tutorial](https://pymongo.readthedocs.io/en/stable/tutorial.html#getting-a-single-document-with-find-one) to learn to use the `find_one` function. No need to use `pprint` here, just use the regular `print` function.\n",
    "    \n",
    "   \n",
    "</div>\n",
    "\n"
   ]
  },
  {
   "cell_type": "code",
   "execution_count": null,
   "metadata": {},
   "outputs": [],
   "source": [
    "###########################\n",
    "# Task: \n",
    "#   find an item whose item_type is \"rocket\"\n",
    "#\n",
    "###########################\n",
    "\n",
    "\n",
    "### TO DO\n",
    "\n",
    "\n",
    "\n",
    "#########"
   ]
  },
  {
   "cell_type": "markdown",
   "metadata": {},
   "source": [
    "<div class=\"alert alert-block alert-danger\">\n",
    "<b>👩‍💻👨‍💻 Action required</b>\n",
    "\n",
    "- Find all the items whose item_type is \"book\". You can use the method `find` .\n",
    "\n",
    "\n",
    "</div>\n",
    "\n",
    "<div class=\"alert alert-heading alert-danger\" style=\"background-color: white; border: 2px solid; border-radius: 5px; color: #000; border-color:#AAA; padding: 10px\">\n",
    "    <b>💎 Tip</b>\n",
    "    \n",
    "Look up this [tutorial](https://pymongo.readthedocs.io/en/stable/tutorial.html#querying-for-more-than-one-document) to learn to use the `find` function. No need to use `pprint` here, just use the regular `print` function.\n",
    "    \n",
    "   \n",
    "</div>\n",
    "\n"
   ]
  },
  {
   "cell_type": "code",
   "execution_count": null,
   "metadata": {},
   "outputs": [],
   "source": [
    "###########################\n",
    "# Task: \n",
    "#   Count the total students with final DAPS_assignment score equal to 3 and 8.\n",
    "#\n",
    "###########################\n",
    "\n",
    "\n",
    "### TO DO\n",
    "\n",
    "\n",
    "#########"
   ]
  },
  {
   "cell_type": "markdown",
   "metadata": {},
   "source": [
    "**Good news! All the books just became available in Greek.**\n",
    "\n",
    "<div class=\"alert alert-block alert-danger\">\n",
    "<b>👩‍💻👨‍💻 Action required</b>\n",
    "\n",
    "- Update the languages array of the books to contain greek. You can use one of the following methods: `update_one`, `update_many`, or `replace_one`.\n",
    "\n",
    "- Print all the languages array of all the books to check the Greek has been added. \n",
    "\n",
    "\n",
    "</div>\n",
    "\n",
    "<div class=\"alert alert-heading alert-danger\" style=\"background-color: white; border: 2px solid; border-radius: 5px; color: #000; border-color:#AAA; padding: 10px\">\n",
    "    <b>💎 Tip</b>\n",
    "    \n",
    "One possible method:\n",
    "\n",
    "- Use `find` to identify all documents with item_type:\"book\".\n",
    "- Extract the language array of each book with `languages = book[\"languages\"]`, and use the method `.append()` to add \"Greek\" to the array.\n",
    "- Finaly use `update_one` and the unique ObjectID of the document in the collection (`_id = book[\"_id\"]`)to replace the old language field with the updated array. Look up this [tutorial](https://www.w3schools.com/python/python_mongodb_update.asp) to learn how to use it.\n",
    "\n",
    "    \n",
    "</div>\n"
   ]
  },
  {
   "cell_type": "code",
   "execution_count": null,
   "metadata": {},
   "outputs": [],
   "source": [
    "###########################\n",
    "# Task: \n",
    "#   Adjust the score on all the students graded by David with final mark 4 to 5.\n",
    "#\n",
    "###########################\n",
    "\n",
    "\n",
    "### TO DO\n",
    "\n",
    "\n",
    "#########"
   ]
  },
  {
   "cell_type": "markdown",
   "metadata": {},
   "source": [
    "## 2.3 Query both the SQL database and the MondoDB NoSQL database\n",
    "\n",
    "<div class=\"alert alert-block alert-warning\">\n",
    "    <b>👩‍💻👨‍💻 Optional action</b>\n",
    "\n",
    "- Find the names and ids of the clients who bought the book \"How to use MongoDB\".\n",
    "    \n",
    "</div>\n"
   ]
  },
  {
   "cell_type": "code",
   "execution_count": null,
   "metadata": {},
   "outputs": [],
   "source": [
    "###########################\n",
    "# Task: \n",
    "#   Find the names and ids of the clients who bought the book \"How to use MongoDB\"\n",
    "#\n",
    "###########################\n",
    "\n",
    "\n",
    "### TO DO\n"
   ]
  },
  {
   "cell_type": "markdown",
   "metadata": {},
   "source": [
    "## 3. Submitting your assignment\n",
    "\n",
    "To submit this assignment and **every other future assignment**, included the **final assignment** you have to:\n",
    "- Commit and push your code to GitHub\n",
    "- Go to **your** repository of the assignment. This must be on our course organisation `UCL-ELEC0136` and usually has the pattern `https://github.com/UCL-ELEC0136/<assignment-name>-<your-github-username>`.\n",
    "- Go in the `Pull requests` tab and click on the `Feedback` pull request.\n",
    "- Click on `Files changed` and verify that the files you have changed are listed.\n",
    "- Merge the pull request by clicking on `Merge pull request` and then `Confirm merge`.\n",
    "\n",
    "We are now ready to push our code that acquires data from GitHub to our repository (which is also GitHub, but this is just a coincidence, we could have used any other API, like Twitter's or Facebook's).\n",
    "\n",
    "<div class=\"alert alert-block alert-danger\">\n",
    "<b>👩‍💻👨‍💻 Action required</b>\n",
    "\n",
    "Submit your assignment by following the steps above.\n",
    "</div>"
   ]
  }
 ],
 "metadata": {
  "kernelspec": {
   "display_name": "Python 3",
   "language": "python",
   "name": "python3"
  },
  "language_info": {
   "codemirror_mode": {
    "name": "ipython",
    "version": 3
   },
   "file_extension": ".py",
   "mimetype": "text/x-python",
   "name": "python",
   "nbconvert_exporter": "python",
   "pygments_lexer": "ipython3",
   "version": "3.7.6"
  }
 },
 "nbformat": 4,
 "nbformat_minor": 4
}
